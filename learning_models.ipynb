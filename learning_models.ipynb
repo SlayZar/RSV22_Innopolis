{
 "cells": [
  {
   "cell_type": "code",
   "execution_count": 1,
   "id": "077308ba",
   "metadata": {},
   "outputs": [],
   "source": [
    "import pandas as pd\n",
    "import numpy as np\n",
    "from catboost import CatBoostClassifier, Pool"
   ]
  },
  {
   "cell_type": "code",
   "execution_count": 2,
   "id": "939d9c89",
   "metadata": {},
   "outputs": [],
   "source": [
    "from prep_func import prep, get_res_from_df, read_data"
   ]
  },
  {
   "cell_type": "code",
   "execution_count": 3,
   "id": "89b148dd",
   "metadata": {},
   "outputs": [],
   "source": [
    "from config import train_datapath, test_datapath, not_fit_cols, my_params, drops, model_path"
   ]
  },
  {
   "cell_type": "code",
   "execution_count": 4,
   "id": "32f91917",
   "metadata": {},
   "outputs": [],
   "source": [
    "df_train, df_test = read_data(train_datapath, test_datapath, not_fit_cols)"
   ]
  },
  {
   "cell_type": "code",
   "execution_count": 5,
   "id": "4edeb7ea",
   "metadata": {},
   "outputs": [
    {
     "name": "stdout",
     "output_type": "stream",
     "text": [
      "CPU times: user 28.6 s, sys: 244 ms, total: 28.9 s\n",
      "Wall time: 28.9 s\n"
     ]
    }
   ],
   "source": [
    "%%time\n",
    "full_train_poly = prep(df_train[['id', 'crop', '.geo']])\n",
    "full_test_poly = prep(df_test[['id', '.geo']])"
   ]
  },
  {
   "cell_type": "code",
   "execution_count": 7,
   "id": "1a92e974",
   "metadata": {},
   "outputs": [
    {
     "data": {
      "application/vnd.jupyter.widget-view+json": {
       "model_id": "caeaa3664ec54054ac0a4aaa2bf45e77",
       "version_major": 2,
       "version_minor": 0
      },
      "text/plain": [
       "  0%|          | 0/4898 [00:00<?, ?it/s]"
      ]
     },
     "metadata": {},
     "output_type": "display_data"
    },
    {
     "data": {
      "application/vnd.jupyter.widget-view+json": {
       "model_id": "7a1661ebd075452396fbaf45555af6b1",
       "version_major": 2,
       "version_minor": 0
      },
      "text/plain": [
       "  0%|          | 0/2071 [00:00<?, ?it/s]"
      ]
     },
     "metadata": {},
     "output_type": "display_data"
    }
   ],
   "source": [
    "res_train = get_res_from_df(full_train_poly, full_train_poly)\n",
    "res_test = get_res_from_df(full_test_poly, full_train_poly)"
   ]
  },
  {
   "cell_type": "code",
   "execution_count": 9,
   "id": "9c00c6a1",
   "metadata": {},
   "outputs": [],
   "source": [
    "t = res_train.merge(df_train.merge(\n",
    "    full_train_poly[['id', 'lat', 'lon']], on='id', how='left'), how='right', on ='id')\n",
    "t_test = res_test.merge(df_test.merge(\n",
    "    full_test_poly[['id', 'lat', 'lon']], on='id', how='left'), how='right', on ='id')"
   ]
  },
  {
   "cell_type": "code",
   "execution_count": 10,
   "id": "34225978",
   "metadata": {},
   "outputs": [],
   "source": [
    "sols = {}\n",
    "for i in range(7):\n",
    "    sols[i] = []"
   ]
  },
  {
   "cell_type": "code",
   "execution_count": 11,
   "id": "ab22c20d",
   "metadata": {
    "scrolled": true
   },
   "outputs": [
    {
     "name": "stdout",
     "output_type": "stream",
     "text": [
      "0:\tlearn: 1.7675078\ttotal: 77.4ms\tremaining: 1m 39s\n",
      "500:\tlearn: 0.0377853\ttotal: 9.89s\tremaining: 15.5s\n",
      "1000:\tlearn: 0.0110858\ttotal: 19.6s\tremaining: 5.58s\n",
      "1285:\tlearn: 0.0070111\ttotal: 25.2s\tremaining: 0us\n",
      "0:\tlearn: 1.5338498\ttotal: 35.9ms\tremaining: 46.1s\n",
      "500:\tlearn: 0.0116127\ttotal: 12.1s\tremaining: 18.9s\n",
      "1000:\tlearn: 0.0041001\ttotal: 24.1s\tremaining: 6.86s\n",
      "1285:\tlearn: 0.0029203\ttotal: 31s\tremaining: 0us\n",
      "0:\tlearn: 1.6362025\ttotal: 31ms\tremaining: 39.8s\n",
      "500:\tlearn: 0.0297294\ttotal: 10.4s\tremaining: 16.2s\n",
      "1000:\tlearn: 0.0107092\ttotal: 20.7s\tremaining: 5.89s\n",
      "1285:\tlearn: 0.0075856\ttotal: 26.5s\tremaining: 0us\n"
     ]
    }
   ],
   "source": [
    "for i, params in enumerate(my_params):\n",
    "    cb = CatBoostClassifier(**params, n_estimators=1286, \n",
    "                            max_depth = 6, random_state=123)\n",
    "    all_pool = Pool(t.drop(list(drops)+list(['crop', 'id', '.geo']), axis=1), t['crop'])\n",
    "    cb.fit(all_pool,  verbose=500, early_stopping_rounds=50)\n",
    "    cb.save_model(f'{model_path}/model_{i}')\n",
    "    for i in cb.classes_:\n",
    "        sols[i].append(cb.predict_proba(t_test[cb.feature_names_])[:, i])"
   ]
  },
  {
   "cell_type": "code",
   "execution_count": 12,
   "id": "d0191f29",
   "metadata": {},
   "outputs": [],
   "source": [
    "for i in cb.classes_:\n",
    "    t_test[i] = np.min(sols[i], axis=0)\n",
    "t_test['crop'] = t_test[cb.classes_].idxmax(axis=1)\n",
    "t_test = t_test.merge(t[['.geo', 'crop']], on = '.geo', how='left')"
   ]
  },
  {
   "cell_type": "code",
   "execution_count": 14,
   "id": "a7386d96",
   "metadata": {},
   "outputs": [],
   "source": [
    "t_test['crop'] = 1\n",
    "t_test.loc[t_test.crop_y.isnull(), 'crop'] = t_test.loc[t_test.crop_y.isnull(), 'crop_x'].astype(int)\n",
    "t_test.loc[~t_test.crop_y.isnull(), 'crop'] = t_test.loc[~t_test.crop_y.isnull(), 'crop_y'].astype(int)"
   ]
  },
  {
   "cell_type": "code",
   "execution_count": 15,
   "id": "0357c101",
   "metadata": {},
   "outputs": [],
   "source": [
    "t_test[['id', 'crop']].to_csv('solution.csv', index=False)"
   ]
  },
  {
   "cell_type": "code",
   "execution_count": null,
   "id": "e99a2c4e",
   "metadata": {},
   "outputs": [],
   "source": []
  }
 ],
 "metadata": {
  "kernelspec": {
   "display_name": "myenv",
   "language": "python",
   "name": "myenv"
  },
  "language_info": {
   "codemirror_mode": {
    "name": "ipython",
    "version": 3
   },
   "file_extension": ".py",
   "mimetype": "text/x-python",
   "name": "python",
   "nbconvert_exporter": "python",
   "pygments_lexer": "ipython3",
   "version": "3.8.10"
  }
 },
 "nbformat": 4,
 "nbformat_minor": 5
}
