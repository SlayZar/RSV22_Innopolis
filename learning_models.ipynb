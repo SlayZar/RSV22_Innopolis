{
 "cells": [
  {
   "cell_type": "code",
   "execution_count": 1,
   "id": "077308ba",
   "metadata": {},
   "outputs": [],
   "source": [
    "import pandas as pd\n",
    "import numpy as np\n",
    "from catboost import CatBoostClassifier, Pool"
   ]
  },
  {
   "cell_type": "code",
   "execution_count": 2,
   "id": "939d9c89",
   "metadata": {},
   "outputs": [],
   "source": [
    "from prep_func import prep, get_res_from_df, read_data, get_extra_features"
   ]
  },
  {
   "cell_type": "code",
   "execution_count": 3,
   "id": "89b148dd",
   "metadata": {},
   "outputs": [],
   "source": [
    "from config import train_datapath, test_datapath, not_fit_cols, my_params, drops, model_path, solution_path"
   ]
  },
  {
   "cell_type": "code",
   "execution_count": 4,
   "id": "32f91917",
   "metadata": {},
   "outputs": [],
   "source": [
    "df_train, df_test = read_data(train_datapath, test_datapath, not_fit_cols)"
   ]
  },
  {
   "cell_type": "code",
   "execution_count": 5,
   "id": "f533769b",
   "metadata": {},
   "outputs": [],
   "source": [
    "df_train = get_extra_features(df_train)\n",
    "df_test = get_extra_features(df_test)"
   ]
  },
  {
   "cell_type": "code",
   "execution_count": 6,
   "id": "4edeb7ea",
   "metadata": {},
   "outputs": [
    {
     "name": "stdout",
     "output_type": "stream",
     "text": [
      "CPU times: user 50.7 s, sys: 338 ms, total: 51 s\n",
      "Wall time: 52 s\n"
     ]
    }
   ],
   "source": [
    "%%time\n",
    "full_train_poly = prep(df_train[['id', 'crop', '.geo']])\n",
    "full_test_poly = prep(df_test[['id', '.geo']])"
   ]
  },
  {
   "cell_type": "code",
   "execution_count": 7,
   "id": "1a92e974",
   "metadata": {},
   "outputs": [
    {
     "data": {
      "application/vnd.jupyter.widget-view+json": {
       "model_id": "c525a9b84c804653aee85bc33ab9a509",
       "version_major": 2,
       "version_minor": 0
      },
      "text/plain": [
       "  0%|          | 0/4830 [00:00<?, ?it/s]"
      ]
     },
     "metadata": {},
     "output_type": "display_data"
    },
    {
     "data": {
      "application/vnd.jupyter.widget-view+json": {
       "model_id": "19af1b8dd75644ef965de73eea728dbe",
       "version_major": 2,
       "version_minor": 0
      },
      "text/plain": [
       "  0%|          | 0/2071 [00:00<?, ?it/s]"
      ]
     },
     "metadata": {},
     "output_type": "display_data"
    }
   ],
   "source": [
    "res_train = get_res_from_df(full_train_poly, full_train_poly)\n",
    "res_test = get_res_from_df(full_test_poly, full_train_poly)"
   ]
  },
  {
   "cell_type": "code",
   "execution_count": 8,
   "id": "9c00c6a1",
   "metadata": {},
   "outputs": [],
   "source": [
    "t = res_train.merge(df_train.merge(\n",
    "    full_train_poly[['id', 'lat', 'lon', 'kms', 'diff']], on='id', how='left'), how='right', on ='id')\n",
    "t_test = res_test.merge(df_test.merge(\n",
    "    full_test_poly[['id', 'lat', 'lon', 'kms', 'diff']], on='id', how='left'), how='right', on ='id')"
   ]
  },
  {
   "cell_type": "code",
   "execution_count": 9,
   "id": "34225978",
   "metadata": {},
   "outputs": [],
   "source": [
    "sols = {}\n",
    "for i in range(7):\n",
    "    sols[i] = []"
   ]
  },
  {
   "cell_type": "code",
   "execution_count": 10,
   "id": "ab22c20d",
   "metadata": {
    "scrolled": true
   },
   "outputs": [
    {
     "name": "stdout",
     "output_type": "stream",
     "text": [
      "0:\tlearn: 1.7322274\ttotal: 84.9ms\tremaining: 1m 49s\n",
      "500:\tlearn: 0.0279084\ttotal: 26s\tremaining: 40.7s\n",
      "1000:\tlearn: 0.0119420\ttotal: 52.4s\tremaining: 14.9s\n",
      "1285:\tlearn: 0.0087966\ttotal: 1m 7s\tremaining: 0us\n",
      "0:\tlearn: 1.1646152\ttotal: 90.9ms\tremaining: 1m 1s\n",
      "500:\tlearn: 0.0014248\ttotal: 34.5s\tremaining: 12.2s\n",
      "677:\tlearn: 0.0009603\ttotal: 47s\tremaining: 0us\n"
     ]
    }
   ],
   "source": [
    "for i, params in enumerate(my_params):\n",
    "    cb = CatBoostClassifier(**params)\n",
    "    all_pool = Pool(t.drop(list(drops)+list(['crop', 'id', '.geo']), axis=1), t['crop'])\n",
    "    cb.fit(all_pool,  verbose=500)\n",
    "    cb.save_model(f'{model_path}/model2_{i}')\n",
    "    for i in cb.classes_:\n",
    "        sols[i].append(cb.predict_proba(t_test[cb.feature_names_])[:, i])"
   ]
  },
  {
   "cell_type": "code",
   "execution_count": null,
   "id": "d0191f29",
   "metadata": {},
   "outputs": [],
   "source": [
    "for i in cb.classes_:\n",
    "    t_test[i] = np.max(sols[i], axis=0)\n",
    "t_test['crop'] = t_test[cb.classes_].idxmax(axis=1)\n",
    "t_test[['id', 'crop']].to_csv(solution_path, index=False)"
   ]
  },
  {
   "cell_type": "code",
   "execution_count": null,
   "id": "5d3416a6",
   "metadata": {},
   "outputs": [],
   "source": []
  }
 ],
 "metadata": {
  "kernelspec": {
   "display_name": "myenv",
   "language": "python",
   "name": "myenv"
  },
  "language_info": {
   "codemirror_mode": {
    "name": "ipython",
    "version": 3
   },
   "file_extension": ".py",
   "mimetype": "text/x-python",
   "name": "python",
   "nbconvert_exporter": "python",
   "pygments_lexer": "ipython3",
   "version": "3.8.10"
  }
 },
 "nbformat": 4,
 "nbformat_minor": 5
}
