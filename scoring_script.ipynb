{
 "cells": [
  {
   "cell_type": "code",
   "execution_count": 1,
   "id": "7669cccc",
   "metadata": {},
   "outputs": [],
   "source": [
    "from config import train_datapath, test_datapath"
   ]
  },
  {
   "cell_type": "code",
   "execution_count": 2,
   "id": "416386a2",
   "metadata": {},
   "outputs": [],
   "source": [
    "from scoring import scoring_script"
   ]
  },
  {
   "cell_type": "code",
   "execution_count": 3,
   "id": "3c1ab358",
   "metadata": {},
   "outputs": [
    {
     "data": {
      "application/vnd.jupyter.widget-view+json": {
       "model_id": "17e8a1040dad4a63a824f7d89292a0e9",
       "version_major": 2,
       "version_minor": 0
      },
      "text/plain": [
       "  0%|          | 0/2071 [00:00<?, ?it/s]"
      ]
     },
     "metadata": {},
     "output_type": "display_data"
    },
    {
     "name": "stdout",
     "output_type": "stream",
     "text": [
      "CPU times: user 1min 16s, sys: 851 ms, total: 1min 17s\n",
      "Wall time: 1min 16s\n"
     ]
    }
   ],
   "source": [
    "%%time\n",
    "scoring_script(test_datapath, train_datapath, output_path='solution.csv')"
   ]
  },
  {
   "cell_type": "code",
   "execution_count": null,
   "id": "ef25f74b",
   "metadata": {},
   "outputs": [],
   "source": []
  }
 ],
 "metadata": {
  "kernelspec": {
   "display_name": "myenv",
   "language": "python",
   "name": "myenv"
  },
  "language_info": {
   "codemirror_mode": {
    "name": "ipython",
    "version": 3
   },
   "file_extension": ".py",
   "mimetype": "text/x-python",
   "name": "python",
   "nbconvert_exporter": "python",
   "pygments_lexer": "ipython3",
   "version": "3.8.10"
  }
 },
 "nbformat": 4,
 "nbformat_minor": 5
}
